{
 "cells": [
  {
   "cell_type": "code",
   "execution_count": 2,
   "metadata": {
    "collapsed": true
   },
   "outputs": [],
   "source": [
    "import numpy as np\n",
    "import pandas as pd\n",
    "from sklearn.model_selection import train_test_split\n",
    "%matplotlib inline\n",
    "import matplotlib.pyplot as plt"
   ]
  },
  {
   "cell_type": "code",
   "execution_count": 3,
   "metadata": {
    "collapsed": true
   },
   "outputs": [],
   "source": [
    "df1 = pd.read_csv('SEHK_2_MIC.csv')\n",
    "\n",
    "# Split test set and train set\n",
    "\n",
    "X1_all, y1_all = df1[['Size', 'Volatility', 'POV']], df1['Cost']\n",
    "\n",
    "X1_train, X1_test, y1_train, y1_test = train_test_split(X1_all, y1_all, test_size=0.3, random_state=0)"
   ]
  },
  {
   "cell_type": "code",
   "execution_count": 4,
   "metadata": {
    "collapsed": true,
    "scrolled": true
   },
   "outputs": [],
   "source": [
    "df2 = pd.read_csv('SEHK_3_MIC.csv')\n",
    "\n",
    "# Split test set and train set\n",
    "\n",
    "X2_all, y2_all = df2[['Size', 'Volatility', 'POV']], df2['Cost']\n",
    "\n",
    "X2_train, X2_test, y2_train, y2_test = train_test_split(X2_all, y2_all, test_size=0.3, random_state=0)"
   ]
  },
  {
   "cell_type": "code",
   "execution_count": 5,
   "metadata": {
    "collapsed": true
   },
   "outputs": [],
   "source": [
    "df3 = pd.read_csv('SEHK_6_MIC.csv')\n",
    "\n",
    "# Split test set and train set\n",
    "\n",
    "X3_all, y3_all = df3[['Size', 'Volatility', 'POV']], df3['Cost']\n",
    "\n",
    "X3_train, X3_test, y3_train, y3_test = train_test_split(X3_all, y3_all, test_size=0.3, random_state=0)\n"
   ]
  },
  {
   "cell_type": "code",
   "execution_count": 6,
   "metadata": {
    "collapsed": true
   },
   "outputs": [],
   "source": [
    "df4 = pd.read_csv('SEHK_12_MIC.csv')\n",
    "\n",
    "# Split test set and train set\n",
    "\n",
    "X4_all, y4_all = df4[['Size', 'Volatility', 'POV']], df4['Cost']\n",
    "\n",
    "X4_train, X4_test, y4_train, y4_test = train_test_split(X4_all, y4_all, test_size=0.3, random_state=0)"
   ]
  },
  {
   "cell_type": "code",
   "execution_count": 7,
   "metadata": {
    "collapsed": true
   },
   "outputs": [],
   "source": [
    "df5 = pd.read_csv('SEHK_16_MIC.csv')\n",
    "\n",
    "# Split test set and train set\n",
    "\n",
    "X5_all, y5_all = df5[['Size', 'Volatility', 'POV']], df5['Cost']\n",
    "\n",
    "X5_train, X5_test, y5_train, y5_test = train_test_split(X5_all, y5_all, test_size=0.3, random_state=0)"
   ]
  },
  {
   "cell_type": "code",
   "execution_count": 8,
   "metadata": {
    "collapsed": true
   },
   "outputs": [],
   "source": [
    "df6 = pd.read_csv('SEHK_17_MIC.csv')\n",
    "\n",
    "# Split test set and train set\n",
    "\n",
    "X6_all, y6_all = df6[['Size', 'Volatility', 'POV']], df6['Cost']\n",
    "\n",
    "X6_train, X6_test, y6_train, y6_test = train_test_split(X6_all, y6_all, test_size=0.3, random_state=0)"
   ]
  },
  {
   "cell_type": "code",
   "execution_count": 9,
   "metadata": {
    "collapsed": true
   },
   "outputs": [],
   "source": [
    "df7 = pd.read_csv('SEHK_23_MIC.csv')\n",
    "\n",
    "# Split test set and train set\n",
    "\n",
    "X7_all, y7_all = df7[['Size', 'Volatility', 'POV']], df7['Cost']\n",
    "\n",
    "X7_train, X7_test, y7_train, y7_test = train_test_split(X7_all, y7_all, test_size=0.3, random_state=0)"
   ]
  },
  {
   "cell_type": "code",
   "execution_count": 10,
   "metadata": {
    "collapsed": true
   },
   "outputs": [],
   "source": [
    "df8 = pd.read_csv('SEHK_27_MIC.csv')\n",
    "\n",
    "# Split test set and train set\n",
    "\n",
    "X8_all, y8_all = df8[['Size', 'Volatility', 'POV']], df8['Cost']\n",
    "\n",
    "X8_train, X8_test, y8_train, y8_test = train_test_split(X8_all, y8_all, test_size=0.3, random_state=0)"
   ]
  },
  {
   "cell_type": "code",
   "execution_count": 11,
   "metadata": {
    "collapsed": true
   },
   "outputs": [],
   "source": [
    "df9 = pd.read_csv('SEHK_83_MIC.csv')\n",
    "\n",
    "# Split test set and train set\n",
    "\n",
    "X9_all, y9_all = df9[['Size', 'Volatility', 'POV']], df9['Cost']\n",
    "\n",
    "X9_train, X9_test, y9_train, y9_test = train_test_split(X9_all, y9_all, test_size=0.3, random_state=0)"
   ]
  },
  {
   "cell_type": "code",
   "execution_count": 12,
   "metadata": {
    "collapsed": true
   },
   "outputs": [],
   "source": [
    "df10 = pd.read_csv('SEHK_101_MIC.csv')\n",
    "\n",
    "# Split test set and train set\n",
    "\n",
    "X10_all, y10_all = df10[['Size', 'Volatility', 'POV']], df10['Cost']\n",
    "\n",
    "X10_train, X10_test, y10_train, y10_test = train_test_split(X10_all, y10_all, test_size=0.3, random_state=0)"
   ]
  },
  {
   "cell_type": "code",
   "execution_count": 13,
   "metadata": {
    "collapsed": true
   },
   "outputs": [],
   "source": [
    "df11 = pd.read_csv('SEHK_267_MIC.csv')\n",
    "\n",
    "# Split test set and train set\n",
    "\n",
    "X11_all, y11_all = df11[['Size', 'Volatility', 'POV']], df11['Cost']\n",
    "\n",
    "X11_train, X11_test, y11_train, y11_test = train_test_split(X11_all, y11_all, test_size=0.3, random_state=0)"
   ]
  },
  {
   "cell_type": "code",
   "execution_count": 14,
   "metadata": {
    "collapsed": true
   },
   "outputs": [],
   "source": [
    "df12 = pd.read_csv('SEHK_386_MIC.csv')\n",
    "\n",
    "# Split test set and train set\n",
    "\n",
    "X12_all, y12_all = df12[['Size', 'Volatility', 'POV']], df12['Cost']\n",
    "\n",
    "X12_train, X12_test, y12_train, y12_test = train_test_split(X12_all, y12_all, test_size=0.3, random_state=0)"
   ]
  },
  {
   "cell_type": "code",
   "execution_count": 15,
   "metadata": {
    "collapsed": true
   },
   "outputs": [],
   "source": [
    "df13 = pd.read_csv('SEHK_836_MIC.csv')\n",
    "\n",
    "# Split test set and train set\n",
    "\n",
    "X13_all, y13_all = df13[['Size', 'Volatility', 'POV']], df13['Cost']\n",
    "\n",
    "X13_train, X13_test, y13_train, y13_test = train_test_split(X13_all, y13_all, test_size=0.3, random_state=0)"
   ]
  },
  {
   "cell_type": "code",
   "execution_count": 16,
   "metadata": {
    "collapsed": true
   },
   "outputs": [],
   "source": [
    "df14 = pd.read_csv('SEHK_883_MIC.csv')\n",
    "\n",
    "# Split test set and train set\n",
    "\n",
    "X14_all, y14_all = df14[['Size', 'Volatility', 'POV']], df14['Cost']\n",
    "\n",
    "X14_train, X14_test, y14_train, y14_test = train_test_split(X14_all, y14_all, test_size=0.3, random_state=0)"
   ]
  },
  {
   "cell_type": "code",
   "execution_count": 17,
   "metadata": {
    "collapsed": true
   },
   "outputs": [],
   "source": [
    "df15 = pd.read_csv('SEHK_941_MIC.csv')\n",
    "\n",
    "# Split test set and train set\n",
    "\n",
    "X15_all, y15_all = df15[['Size', 'Volatility', 'POV']], df15['Cost']\n",
    "\n",
    "X15_train, X15_test, y15_train, y15_test = train_test_split(X15_all, y15_all, test_size=0.3, random_state=0)"
   ]
  },
  {
   "cell_type": "code",
   "execution_count": 18,
   "metadata": {
    "collapsed": true
   },
   "outputs": [],
   "source": [
    "df16 = pd.read_csv('SEHK_1038_MIC.csv')\n",
    "\n",
    "# Split test set and train set\n",
    "\n",
    "X16_all, y16_all = df16[['Size', 'Volatility', 'POV']], df16['Cost']\n",
    "\n",
    "X16_train, X16_test, y16_train, y16_test = train_test_split(X16_all, y16_all, test_size=0.3, random_state=0)"
   ]
  },
  {
   "cell_type": "code",
   "execution_count": 19,
   "metadata": {
    "collapsed": true
   },
   "outputs": [],
   "source": [
    "df17 = pd.read_csv('SEHK_1044_MIC.csv')\n",
    "\n",
    "# Split test set and train set\n",
    "\n",
    "X17_all, y17_all = df17[['Size', 'Volatility', 'POV']], df17['Cost']\n",
    "\n",
    "X17_train, X17_test, y17_train, y17_test = train_test_split(X17_all, y17_all, test_size=0.3, random_state=0)"
   ]
  },
  {
   "cell_type": "code",
   "execution_count": 20,
   "metadata": {
    "collapsed": true
   },
   "outputs": [],
   "source": [
    "df18 = pd.read_csv('SEHK_1093_MIC.csv')\n",
    "\n",
    "# Split test set and train set\n",
    "\n",
    "X18_all, y18_all = df18[['Size', 'Volatility', 'POV']], df18['Cost']\n",
    "\n",
    "X18_train, X18_test, y18_train, y18_test = train_test_split(X18_all, y18_all, test_size=0.3, random_state=0)"
   ]
  },
  {
   "cell_type": "code",
   "execution_count": 21,
   "metadata": {
    "collapsed": true
   },
   "outputs": [],
   "source": [
    "df19 = pd.read_csv('SEHK_1109_MIC.csv')\n",
    "\n",
    "# Split test set and train set\n",
    "\n",
    "X19_all, y19_all = df19[['Size', 'Volatility', 'POV']], df19['Cost']\n",
    "\n",
    "X19_train, X19_test, y19_train, y19_test = train_test_split(X19_all, y19_all, test_size=0.3, random_state=0)"
   ]
  },
  {
   "cell_type": "code",
   "execution_count": 22,
   "metadata": {
    "collapsed": true
   },
   "outputs": [],
   "source": [
    "df20 = pd.read_csv('SEHK_1299_MIC.csv')\n",
    "\n",
    "# Split test set and train set\n",
    "\n",
    "X20_all, y20_all = df20[['Size', 'Volatility', 'POV']], df20['Cost']\n",
    "\n",
    "X20_train, X20_test, y20_train, y20_test = train_test_split(X20_all, y20_all, test_size=0.3, random_state=0)"
   ]
  },
  {
   "cell_type": "code",
   "execution_count": 23,
   "metadata": {
    "collapsed": true
   },
   "outputs": [],
   "source": [
    "df21 = pd.read_csv('SEHK_1398_MIC.csv')\n",
    "\n",
    "# Split test set and train set\n",
    "\n",
    "X21_all, y21_all = df21[['Size', 'Volatility', 'POV']], df21['Cost']\n",
    "\n",
    "X21_train, X21_test, y21_train, y21_test = train_test_split(X21_all, y21_all, test_size=0.3, random_state=0)"
   ]
  },
  {
   "cell_type": "code",
   "execution_count": 24,
   "metadata": {
    "collapsed": true
   },
   "outputs": [],
   "source": [
    "df22 = pd.read_csv('SEHK_1928_MIC.csv')\n",
    "\n",
    "# Split test set and train set\n",
    "\n",
    "X22_all, y22_all = df22[['Size', 'Volatility', 'POV']], df22['Cost']\n",
    "\n",
    "X22_train, X22_test, y22_train, y22_test = train_test_split(X22_all, y22_all, test_size=0.3, random_state=0)"
   ]
  },
  {
   "cell_type": "code",
   "execution_count": 25,
   "metadata": {
    "collapsed": true
   },
   "outputs": [],
   "source": [
    "df23 = pd.read_csv('SEHK_2018_MIC.csv')\n",
    "\n",
    "# Split test set and train set\n",
    "\n",
    "X23_all, y23_all = df23[['Size', 'Volatility', 'POV']], df23['Cost']\n",
    "\n",
    "X23_train, X23_test, y23_train, y23_test = train_test_split(X23_all, y23_all, test_size=0.3, random_state=0)"
   ]
  },
  {
   "cell_type": "code",
   "execution_count": 26,
   "metadata": {
    "collapsed": true
   },
   "outputs": [],
   "source": [
    "df24 = pd.read_csv('SEHK_2318_MIC.csv')\n",
    "\n",
    "# Split test set and train set\n",
    "\n",
    "X24_all, y24_all = df24[['Size', 'Volatility', 'POV']], df24['Cost']\n",
    "\n",
    "X24_train, X24_test, y24_train, y24_test = train_test_split(X24_all, y24_all, test_size=0.3, random_state=0)"
   ]
  },
  {
   "cell_type": "code",
   "execution_count": 27,
   "metadata": {
    "collapsed": true
   },
   "outputs": [],
   "source": [
    "df25 = pd.read_csv('SEHK_2319_MIC.csv')\n",
    "\n",
    "# Split test set and train set\n",
    "\n",
    "X25_all, y25_all = df25[['Size', 'Volatility', 'POV']], df25['Cost']\n",
    "\n",
    "X25_train, X25_test, y25_train, y25_test = train_test_split(X25_all, y25_all, test_size=0.3, random_state=0)"
   ]
  },
  {
   "cell_type": "code",
   "execution_count": 28,
   "metadata": {
    "collapsed": true
   },
   "outputs": [],
   "source": [
    "df26 = pd.read_csv('SEHK_2388_MIC.csv')\n",
    "\n",
    "# Split test set and train set\n",
    "\n",
    "X26_all, y26_all = df26[['Size', 'Volatility', 'POV']], df26['Cost']\n",
    "\n",
    "X26_train, X26_test, y26_train, y26_test = train_test_split(X26_all, y26_all, test_size=0.3, random_state=0)"
   ]
  },
  {
   "cell_type": "code",
   "execution_count": 29,
   "metadata": {},
   "outputs": [
    {
     "data": {
      "text/html": [
       "<div>\n",
       "<style>\n",
       "    .dataframe thead tr:only-child th {\n",
       "        text-align: right;\n",
       "    }\n",
       "\n",
       "    .dataframe thead th {\n",
       "        text-align: left;\n",
       "    }\n",
       "\n",
       "    .dataframe tbody tr th {\n",
       "        vertical-align: top;\n",
       "    }\n",
       "</style>\n",
       "<table border=\"1\" class=\"dataframe\">\n",
       "  <thead>\n",
       "    <tr style=\"text-align: right;\">\n",
       "      <th></th>\n",
       "      <th>Size</th>\n",
       "      <th>Volatility</th>\n",
       "      <th>POV</th>\n",
       "    </tr>\n",
       "  </thead>\n",
       "  <tbody>\n",
       "    <tr>\n",
       "      <th>0</th>\n",
       "      <td>0.202680</td>\n",
       "      <td>0.0084</td>\n",
       "      <td>0.033445</td>\n",
       "    </tr>\n",
       "    <tr>\n",
       "      <th>1</th>\n",
       "      <td>0.142482</td>\n",
       "      <td>0.0098</td>\n",
       "      <td>0.033630</td>\n",
       "    </tr>\n",
       "    <tr>\n",
       "      <th>2</th>\n",
       "      <td>0.206277</td>\n",
       "      <td>0.0058</td>\n",
       "      <td>0.033388</td>\n",
       "    </tr>\n",
       "    <tr>\n",
       "      <th>3</th>\n",
       "      <td>0.160731</td>\n",
       "      <td>0.0108</td>\n",
       "      <td>0.033761</td>\n",
       "    </tr>\n",
       "    <tr>\n",
       "      <th>4</th>\n",
       "      <td>0.102424</td>\n",
       "      <td>0.0355</td>\n",
       "      <td>0.031132</td>\n",
       "    </tr>\n",
       "    <tr>\n",
       "      <th>5</th>\n",
       "      <td>0.129783</td>\n",
       "      <td>0.0316</td>\n",
       "      <td>0.033339</td>\n",
       "    </tr>\n",
       "    <tr>\n",
       "      <th>6</th>\n",
       "      <td>0.194884</td>\n",
       "      <td>0.0072</td>\n",
       "      <td>0.033831</td>\n",
       "    </tr>\n",
       "    <tr>\n",
       "      <th>7</th>\n",
       "      <td>0.188263</td>\n",
       "      <td>0.0045</td>\n",
       "      <td>0.033219</td>\n",
       "    </tr>\n",
       "    <tr>\n",
       "      <th>8</th>\n",
       "      <td>0.199725</td>\n",
       "      <td>0.0035</td>\n",
       "      <td>0.033750</td>\n",
       "    </tr>\n",
       "    <tr>\n",
       "      <th>9</th>\n",
       "      <td>0.171304</td>\n",
       "      <td>0.0176</td>\n",
       "      <td>0.033857</td>\n",
       "    </tr>\n",
       "    <tr>\n",
       "      <th>10</th>\n",
       "      <td>0.189368</td>\n",
       "      <td>0.0056</td>\n",
       "      <td>0.033583</td>\n",
       "    </tr>\n",
       "    <tr>\n",
       "      <th>11</th>\n",
       "      <td>0.206444</td>\n",
       "      <td>0.0062</td>\n",
       "      <td>0.033608</td>\n",
       "    </tr>\n",
       "    <tr>\n",
       "      <th>12</th>\n",
       "      <td>0.210408</td>\n",
       "      <td>0.0326</td>\n",
       "      <td>0.034812</td>\n",
       "    </tr>\n",
       "    <tr>\n",
       "      <th>13</th>\n",
       "      <td>0.196196</td>\n",
       "      <td>0.0092</td>\n",
       "      <td>0.033815</td>\n",
       "    </tr>\n",
       "    <tr>\n",
       "      <th>14</th>\n",
       "      <td>0.202674</td>\n",
       "      <td>0.0088</td>\n",
       "      <td>0.033617</td>\n",
       "    </tr>\n",
       "    <tr>\n",
       "      <th>15</th>\n",
       "      <td>0.283006</td>\n",
       "      <td>0.0161</td>\n",
       "      <td>0.034350</td>\n",
       "    </tr>\n",
       "    <tr>\n",
       "      <th>16</th>\n",
       "      <td>0.214879</td>\n",
       "      <td>0.0142</td>\n",
       "      <td>0.033184</td>\n",
       "    </tr>\n",
       "    <tr>\n",
       "      <th>17</th>\n",
       "      <td>0.209508</td>\n",
       "      <td>0.0051</td>\n",
       "      <td>0.033658</td>\n",
       "    </tr>\n",
       "    <tr>\n",
       "      <th>18</th>\n",
       "      <td>0.197250</td>\n",
       "      <td>0.0238</td>\n",
       "      <td>0.033635</td>\n",
       "    </tr>\n",
       "    <tr>\n",
       "      <th>19</th>\n",
       "      <td>0.271702</td>\n",
       "      <td>0.0156</td>\n",
       "      <td>0.033828</td>\n",
       "    </tr>\n",
       "    <tr>\n",
       "      <th>20</th>\n",
       "      <td>0.206110</td>\n",
       "      <td>0.0086</td>\n",
       "      <td>0.033728</td>\n",
       "    </tr>\n",
       "    <tr>\n",
       "      <th>21</th>\n",
       "      <td>0.336230</td>\n",
       "      <td>0.0265</td>\n",
       "      <td>0.034098</td>\n",
       "    </tr>\n",
       "    <tr>\n",
       "      <th>22</th>\n",
       "      <td>0.158111</td>\n",
       "      <td>0.0112</td>\n",
       "      <td>0.033461</td>\n",
       "    </tr>\n",
       "    <tr>\n",
       "      <th>23</th>\n",
       "      <td>0.149033</td>\n",
       "      <td>0.0083</td>\n",
       "      <td>0.033661</td>\n",
       "    </tr>\n",
       "    <tr>\n",
       "      <th>24</th>\n",
       "      <td>0.219210</td>\n",
       "      <td>0.0213</td>\n",
       "      <td>0.033779</td>\n",
       "    </tr>\n",
       "    <tr>\n",
       "      <th>25</th>\n",
       "      <td>0.136026</td>\n",
       "      <td>0.0217</td>\n",
       "      <td>0.032635</td>\n",
       "    </tr>\n",
       "    <tr>\n",
       "      <th>26</th>\n",
       "      <td>0.297408</td>\n",
       "      <td>0.0205</td>\n",
       "      <td>0.034899</td>\n",
       "    </tr>\n",
       "    <tr>\n",
       "      <th>27</th>\n",
       "      <td>0.188429</td>\n",
       "      <td>0.0118</td>\n",
       "      <td>0.033427</td>\n",
       "    </tr>\n",
       "    <tr>\n",
       "      <th>28</th>\n",
       "      <td>0.230811</td>\n",
       "      <td>0.0155</td>\n",
       "      <td>0.033060</td>\n",
       "    </tr>\n",
       "    <tr>\n",
       "      <th>29</th>\n",
       "      <td>0.135009</td>\n",
       "      <td>0.0283</td>\n",
       "      <td>0.030950</td>\n",
       "    </tr>\n",
       "    <tr>\n",
       "      <th>...</th>\n",
       "      <td>...</td>\n",
       "      <td>...</td>\n",
       "      <td>...</td>\n",
       "    </tr>\n",
       "    <tr>\n",
       "      <th>6774</th>\n",
       "      <td>0.082233</td>\n",
       "      <td>0.0309</td>\n",
       "      <td>0.033753</td>\n",
       "    </tr>\n",
       "    <tr>\n",
       "      <th>6775</th>\n",
       "      <td>0.099825</td>\n",
       "      <td>0.0174</td>\n",
       "      <td>0.033391</td>\n",
       "    </tr>\n",
       "    <tr>\n",
       "      <th>6776</th>\n",
       "      <td>0.111947</td>\n",
       "      <td>0.0343</td>\n",
       "      <td>0.031682</td>\n",
       "    </tr>\n",
       "    <tr>\n",
       "      <th>6777</th>\n",
       "      <td>0.097287</td>\n",
       "      <td>0.0131</td>\n",
       "      <td>0.033274</td>\n",
       "    </tr>\n",
       "    <tr>\n",
       "      <th>6778</th>\n",
       "      <td>0.149784</td>\n",
       "      <td>0.0480</td>\n",
       "      <td>0.034992</td>\n",
       "    </tr>\n",
       "    <tr>\n",
       "      <th>6779</th>\n",
       "      <td>0.143185</td>\n",
       "      <td>0.0084</td>\n",
       "      <td>0.033653</td>\n",
       "    </tr>\n",
       "    <tr>\n",
       "      <th>6780</th>\n",
       "      <td>0.115595</td>\n",
       "      <td>0.0227</td>\n",
       "      <td>0.033623</td>\n",
       "    </tr>\n",
       "    <tr>\n",
       "      <th>6781</th>\n",
       "      <td>0.103269</td>\n",
       "      <td>0.0486</td>\n",
       "      <td>0.034523</td>\n",
       "    </tr>\n",
       "    <tr>\n",
       "      <th>6782</th>\n",
       "      <td>0.072435</td>\n",
       "      <td>0.0712</td>\n",
       "      <td>0.033807</td>\n",
       "    </tr>\n",
       "    <tr>\n",
       "      <th>6783</th>\n",
       "      <td>0.093445</td>\n",
       "      <td>0.0236</td>\n",
       "      <td>0.032772</td>\n",
       "    </tr>\n",
       "    <tr>\n",
       "      <th>6784</th>\n",
       "      <td>0.202037</td>\n",
       "      <td>0.0675</td>\n",
       "      <td>0.033168</td>\n",
       "    </tr>\n",
       "    <tr>\n",
       "      <th>6785</th>\n",
       "      <td>0.146969</td>\n",
       "      <td>0.0098</td>\n",
       "      <td>0.033970</td>\n",
       "    </tr>\n",
       "    <tr>\n",
       "      <th>6786</th>\n",
       "      <td>0.112275</td>\n",
       "      <td>0.0255</td>\n",
       "      <td>0.033639</td>\n",
       "    </tr>\n",
       "    <tr>\n",
       "      <th>6787</th>\n",
       "      <td>0.130909</td>\n",
       "      <td>0.0427</td>\n",
       "      <td>0.032821</td>\n",
       "    </tr>\n",
       "    <tr>\n",
       "      <th>6788</th>\n",
       "      <td>0.167925</td>\n",
       "      <td>0.0147</td>\n",
       "      <td>0.033827</td>\n",
       "    </tr>\n",
       "    <tr>\n",
       "      <th>6789</th>\n",
       "      <td>0.128744</td>\n",
       "      <td>0.0129</td>\n",
       "      <td>0.033830</td>\n",
       "    </tr>\n",
       "    <tr>\n",
       "      <th>6790</th>\n",
       "      <td>0.121799</td>\n",
       "      <td>0.0146</td>\n",
       "      <td>0.033359</td>\n",
       "    </tr>\n",
       "    <tr>\n",
       "      <th>6791</th>\n",
       "      <td>0.042710</td>\n",
       "      <td>0.0379</td>\n",
       "      <td>0.031566</td>\n",
       "    </tr>\n",
       "    <tr>\n",
       "      <th>6792</th>\n",
       "      <td>0.093824</td>\n",
       "      <td>0.0307</td>\n",
       "      <td>0.034006</td>\n",
       "    </tr>\n",
       "    <tr>\n",
       "      <th>6793</th>\n",
       "      <td>0.070337</td>\n",
       "      <td>0.0360</td>\n",
       "      <td>0.032571</td>\n",
       "    </tr>\n",
       "    <tr>\n",
       "      <th>6794</th>\n",
       "      <td>0.113062</td>\n",
       "      <td>0.0274</td>\n",
       "      <td>0.033843</td>\n",
       "    </tr>\n",
       "    <tr>\n",
       "      <th>6795</th>\n",
       "      <td>0.102638</td>\n",
       "      <td>0.0068</td>\n",
       "      <td>0.033414</td>\n",
       "    </tr>\n",
       "    <tr>\n",
       "      <th>6796</th>\n",
       "      <td>0.079612</td>\n",
       "      <td>0.0663</td>\n",
       "      <td>0.033543</td>\n",
       "    </tr>\n",
       "    <tr>\n",
       "      <th>6797</th>\n",
       "      <td>0.136477</td>\n",
       "      <td>0.0257</td>\n",
       "      <td>0.033546</td>\n",
       "    </tr>\n",
       "    <tr>\n",
       "      <th>6798</th>\n",
       "      <td>0.041225</td>\n",
       "      <td>0.0322</td>\n",
       "      <td>0.032640</td>\n",
       "    </tr>\n",
       "    <tr>\n",
       "      <th>6799</th>\n",
       "      <td>0.161600</td>\n",
       "      <td>0.0452</td>\n",
       "      <td>0.033905</td>\n",
       "    </tr>\n",
       "    <tr>\n",
       "      <th>6800</th>\n",
       "      <td>0.114294</td>\n",
       "      <td>0.0254</td>\n",
       "      <td>0.033584</td>\n",
       "    </tr>\n",
       "    <tr>\n",
       "      <th>6801</th>\n",
       "      <td>0.141747</td>\n",
       "      <td>0.0176</td>\n",
       "      <td>0.034036</td>\n",
       "    </tr>\n",
       "    <tr>\n",
       "      <th>6802</th>\n",
       "      <td>0.147911</td>\n",
       "      <td>0.0106</td>\n",
       "      <td>0.033774</td>\n",
       "    </tr>\n",
       "    <tr>\n",
       "      <th>6803</th>\n",
       "      <td>0.109546</td>\n",
       "      <td>0.0234</td>\n",
       "      <td>0.032838</td>\n",
       "    </tr>\n",
       "  </tbody>\n",
       "</table>\n",
       "<p>6804 rows × 3 columns</p>\n",
       "</div>"
      ],
      "text/plain": [
       "          Size  Volatility       POV\n",
       "0     0.202680      0.0084  0.033445\n",
       "1     0.142482      0.0098  0.033630\n",
       "2     0.206277      0.0058  0.033388\n",
       "3     0.160731      0.0108  0.033761\n",
       "4     0.102424      0.0355  0.031132\n",
       "5     0.129783      0.0316  0.033339\n",
       "6     0.194884      0.0072  0.033831\n",
       "7     0.188263      0.0045  0.033219\n",
       "8     0.199725      0.0035  0.033750\n",
       "9     0.171304      0.0176  0.033857\n",
       "10    0.189368      0.0056  0.033583\n",
       "11    0.206444      0.0062  0.033608\n",
       "12    0.210408      0.0326  0.034812\n",
       "13    0.196196      0.0092  0.033815\n",
       "14    0.202674      0.0088  0.033617\n",
       "15    0.283006      0.0161  0.034350\n",
       "16    0.214879      0.0142  0.033184\n",
       "17    0.209508      0.0051  0.033658\n",
       "18    0.197250      0.0238  0.033635\n",
       "19    0.271702      0.0156  0.033828\n",
       "20    0.206110      0.0086  0.033728\n",
       "21    0.336230      0.0265  0.034098\n",
       "22    0.158111      0.0112  0.033461\n",
       "23    0.149033      0.0083  0.033661\n",
       "24    0.219210      0.0213  0.033779\n",
       "25    0.136026      0.0217  0.032635\n",
       "26    0.297408      0.0205  0.034899\n",
       "27    0.188429      0.0118  0.033427\n",
       "28    0.230811      0.0155  0.033060\n",
       "29    0.135009      0.0283  0.030950\n",
       "...        ...         ...       ...\n",
       "6774  0.082233      0.0309  0.033753\n",
       "6775  0.099825      0.0174  0.033391\n",
       "6776  0.111947      0.0343  0.031682\n",
       "6777  0.097287      0.0131  0.033274\n",
       "6778  0.149784      0.0480  0.034992\n",
       "6779  0.143185      0.0084  0.033653\n",
       "6780  0.115595      0.0227  0.033623\n",
       "6781  0.103269      0.0486  0.034523\n",
       "6782  0.072435      0.0712  0.033807\n",
       "6783  0.093445      0.0236  0.032772\n",
       "6784  0.202037      0.0675  0.033168\n",
       "6785  0.146969      0.0098  0.033970\n",
       "6786  0.112275      0.0255  0.033639\n",
       "6787  0.130909      0.0427  0.032821\n",
       "6788  0.167925      0.0147  0.033827\n",
       "6789  0.128744      0.0129  0.033830\n",
       "6790  0.121799      0.0146  0.033359\n",
       "6791  0.042710      0.0379  0.031566\n",
       "6792  0.093824      0.0307  0.034006\n",
       "6793  0.070337      0.0360  0.032571\n",
       "6794  0.113062      0.0274  0.033843\n",
       "6795  0.102638      0.0068  0.033414\n",
       "6796  0.079612      0.0663  0.033543\n",
       "6797  0.136477      0.0257  0.033546\n",
       "6798  0.041225      0.0322  0.032640\n",
       "6799  0.161600      0.0452  0.033905\n",
       "6800  0.114294      0.0254  0.033584\n",
       "6801  0.141747      0.0176  0.034036\n",
       "6802  0.147911      0.0106  0.033774\n",
       "6803  0.109546      0.0234  0.032838\n",
       "\n",
       "[6804 rows x 3 columns]"
      ]
     },
     "execution_count": 29,
     "metadata": {},
     "output_type": "execute_result"
    }
   ],
   "source": [
    "X_train = pd.concat([X1_train, X2_train, X3_train, X4_train, X5_train, X6_train, X7_train, X8_train, X9_train, X10_train, X11_train, X12_train, X13_train, X14_train, X15_train, X16_train, X17_train, X18_train, X19_train, X20_train, X21_train, X22_train, X23_train, X24_train, X25_train, X26_train], ignore_index=True)\n",
    "X_train"
   ]
  },
  {
   "cell_type": "code",
   "execution_count": 30,
   "metadata": {},
   "outputs": [
    {
     "data": {
      "text/plain": [
       "0       1.005453\n",
       "1       1.069830\n",
       "2       1.027715\n",
       "3       1.232809\n",
       "4       2.689894\n",
       "5       3.837492\n",
       "6       1.008869\n",
       "7       0.950666\n",
       "8       1.145059\n",
       "9       1.542428\n",
       "10      1.024357\n",
       "11      1.017721\n",
       "12      2.175943\n",
       "13      1.022524\n",
       "14      1.032972\n",
       "15      1.429368\n",
       "16      2.342516\n",
       "17      1.043935\n",
       "18      1.997808\n",
       "19      1.116117\n",
       "20      1.035928\n",
       "21      2.086927\n",
       "22      1.329465\n",
       "23      0.957592\n",
       "24      1.364141\n",
       "25      1.820656\n",
       "26      2.214834\n",
       "27      1.281144\n",
       "28      1.769388\n",
       "29      1.693525\n",
       "          ...   \n",
       "6774    4.011975\n",
       "6775    3.567787\n",
       "6776    2.801419\n",
       "6777    3.011825\n",
       "6778    3.556331\n",
       "6779    2.748814\n",
       "6780    2.322816\n",
       "6781    3.198566\n",
       "6782    4.315752\n",
       "6783    3.011824\n",
       "6784    3.650792\n",
       "6785    3.113714\n",
       "6786    4.186509\n",
       "6787    2.793173\n",
       "6788    3.845665\n",
       "6789    3.218711\n",
       "6790    3.314369\n",
       "6791    3.487642\n",
       "6792    6.219882\n",
       "6793    3.601574\n",
       "6794    4.092381\n",
       "6795    2.817942\n",
       "6796    3.728365\n",
       "6797    3.304079\n",
       "6798    4.715292\n",
       "6799    5.774397\n",
       "6800    3.288748\n",
       "6801    3.356304\n",
       "6802    2.862037\n",
       "6803    2.611832\n",
       "Name: Cost, Length: 6804, dtype: float64"
      ]
     },
     "execution_count": 30,
     "metadata": {},
     "output_type": "execute_result"
    }
   ],
   "source": [
    "y_train = pd.concat([y1_train, y2_train, y3_train, y4_train, y5_train, y6_train, y7_train, y8_train, y9_train, y10_train, y11_train, y12_train, y13_train, y14_train, y15_train, y16_train, y17_train, y18_train, y19_train, y20_train, y21_train, y22_train, y23_train, y24_train, y25_train, y26_train], ignore_index=True)\n",
    "y_train"
   ]
  },
  {
   "cell_type": "code",
   "execution_count": 31,
   "metadata": {
    "collapsed": true
   },
   "outputs": [],
   "source": [
    "X_test = pd.concat([X1_test, X2_test, X3_test, X4_test, X5_test, X6_test, X7_test, X8_test, X9_test, X10_test, X11_test, X12_test, X13_test, X14_test, X15_test, X16_test, X17_test, X18_test, X19_test, X20_test, X21_test, X22_test, X23_test, X24_test, X25_test, X26_test])"
   ]
  },
  {
   "cell_type": "code",
   "execution_count": 32,
   "metadata": {
    "collapsed": true
   },
   "outputs": [],
   "source": [
    "y_test = pd.concat([y1_test, y2_test, y3_test, y4_test, y5_test, y6_test, y7_test, y8_test, y9_test, y10_test, y11_test, y12_test, y13_test, y14_test, y15_test, y16_test, y17_test, y18_test, y19_test, y20_test, y21_test, y22_test, y23_test, y24_test, y25_test, y26_test])"
   ]
  },
  {
   "cell_type": "code",
   "execution_count": 33,
   "metadata": {
    "collapsed": true
   },
   "outputs": [],
   "source": [
    "from sklearn.svm import SVR\n",
    "from sklearn.metrics import mean_absolute_error\n",
    "\n",
    "def SVR_score(X_train, X_test, y_train, y_test):\n",
    "    model = SVR(C=1.0, epsilon=0.2)\n",
    "    model.fit(X_train, y_train)\n",
    "    preds = model.predict(X_test)\n",
    "    return mean_absolute_error(y_test, preds)\n",
    "    "
   ]
  },
  {
   "cell_type": "code",
   "execution_count": 34,
   "metadata": {},
   "outputs": [
    {
     "name": "stdout",
     "output_type": "stream",
     "text": [
      "SVR model MAE: 0.7166123162526611\n"
     ]
    }
   ],
   "source": [
    "# Test Predict SEHK_2\n",
    "\n",
    "print(\"SVR model MAE: {}\".format(SVR_score(X_train, X1_test, y_train, y1_test)))"
   ]
  },
  {
   "cell_type": "code",
   "execution_count": 35,
   "metadata": {},
   "outputs": [
    {
     "name": "stdout",
     "output_type": "stream",
     "text": [
      "SVR model MAE: 0.7420011638290085\n"
     ]
    }
   ],
   "source": [
    "# Test Predict SEHK_3\n",
    "\n",
    "print(\"SVR model MAE: {}\".format(SVR_score(X_train, X2_test, y_train, y2_test)))"
   ]
  },
  {
   "cell_type": "code",
   "execution_count": 36,
   "metadata": {},
   "outputs": [
    {
     "name": "stdout",
     "output_type": "stream",
     "text": [
      "SVR model MAE: 0.8773105868704687\n"
     ]
    }
   ],
   "source": [
    "# Test Predict random sample from SEHK 26 stocks\n",
    "\n",
    "print(\"SVR model MAE: {}\".format(SVR_score(X_train, X_test, y_train, y_test)))"
   ]
  },
  {
   "cell_type": "code",
   "execution_count": 37,
   "metadata": {},
   "outputs": [
    {
     "data": {
      "image/png": "[encoded data removed]",
      "text/plain": [
       "<matplotlib.figure.Figure at 0x1199953c8>"
      ]
     },
     "metadata": {},
     "output_type": "display_data"
    }
   ],
   "source": [
    "import matplotlib.pyplot as plt\n",
    "\n",
    "model_SVR = SVR(C=1.0, epsilon=0.2)\n",
    "model_SVR.fit(X_train, y_train)\n",
    "preds = model_SVR.predict(X_test)\n",
    "\n",
    "test_val = y_test\n",
    "preds_val = preds\n",
    "ar = np.arange(len(y_test))\n",
    "plt.plot(ar, np.zeros_like(ar) + test_val, c='g', label='Test data')\n",
    "plt.plot(ar, np.zeros_like(ar) + preds_val, c='b', label='Predict data (SVR)')\n",
    "plt.plot()\n",
    "plt.show()"
   ]
  },
  {
   "cell_type": "code",
   "execution_count": 38,
   "metadata": {},
   "outputs": [
    {
     "data": {
      "image/png": "[encoded data removed]",
      "text/plain": [
       "<matplotlib.figure.Figure at 0x11cdef160>"
      ]
     },
     "metadata": {},
     "output_type": "display_data"
    }
   ],
   "source": [
    "# import matplotlib.pyplot as plt\n",
    "\n",
    "model_SVR = SVR(C=1.0, epsilon=0.2)\n",
    "model_SVR.fit(X_train, y_train)\n",
    "preds = model_SVR.predict(X1_test)\n",
    "\n",
    "test_val = y1_test\n",
    "preds_val = preds\n",
    "ar = np.arange(len(y1_test))\n",
    "plt.plot(ar, np.zeros_like(ar) + test_val, c='g', label='Test data')\n",
    "plt.plot(ar, np.zeros_like(ar) + preds_val, c='b', label='Predict data (SVR)')\n",
    "plt.plot()\n",
    "plt.show()"
   ]
  },
  {
   "cell_type": "code",
   "execution_count": 39,
   "metadata": {
    "collapsed": true
   },
   "outputs": [],
   "source": [
    "from lmfit import Model"
   ]
  },
  {
   "cell_type": "code",
   "execution_count": 40,
   "metadata": {
    "collapsed": true
   },
   "outputs": [],
   "source": [
    "def i_star_model(size, volatility, pov, b1, a1, a2, a3, a4):\n",
    "    return ((b1 * (a1 * np.power(size, a2) * np.power(volatility, a3))) * np.power(pov, a4)) + ((1 - b1)*(a1 * np.power(size, a2) * np.power(volatility, a3)))\n"
   ]
  },
  {
   "cell_type": "code",
   "execution_count": 41,
   "metadata": {},
   "outputs": [
    {
     "name": "stdout",
     "output_type": "stream",
     "text": [
      "[[Model]]\n",
      "    Model(i_star_model)\n",
      "[[Fit Statistics]]\n",
      "    # fitting method   = leastsq\n",
      "    # function evals   = 11302\n",
      "    # data points      = 6804\n",
      "    # variables        = 5\n",
      "    chi-square         = 11265.5765\n",
      "    reduced chi-square = 1.65694610\n",
      "    Akaike info crit   = 3440.85629\n",
      "    Bayesian info crit = 3474.98262\n",
      "[[Variables]]\n",
      "    b1:  1.00000000 +/- 1.4741e-12 (0.00%) (init = 0.7)\n",
      "    a1:  1.2958e+14 +/- 1.3890e+15 (1071.97%) (init = 100)\n",
      "    a2: -0.11250118 +/- 0.00690777 (6.14%) (init = 0.1)\n",
      "    a3:  0.56049886 +/- 0.00880050 (1.57%) (init = 0.1)\n",
      "    a4:  10.9000728 +/- 4.04744390 (37.13%) (init = 0.1)\n",
      "[[Correlations]] (unreported correlations are < 0.100)\n",
      "    C(b1, a1) =  1.000\n",
      "    C(a1, a4) =  1.000\n",
      "    C(b1, a4) =  1.000\n",
      "\n"
     ]
    }
   ],
   "source": [
    "y = y_train\n",
    "size = X_train['Size']\n",
    "volatility = X_train['Volatility']\n",
    "pov = X_train['POV']\n",
    "\n",
    "istar_model = Model(i_star_model, independent_vars=['size', 'volatility', 'pov'],  param_names=['b1', 'a1', 'a2', 'a3', 'a4'])\n",
    "result = istar_model.fit(y, size=size, volatility=volatility, pov=pov, b1=0.7, a1=100, a2=0.1, a3=0.1, a4=0.1)\n",
    "print(result.fit_report())"
   ]
  },
  {
   "cell_type": "code",
   "execution_count": 42,
   "metadata": {
    "collapsed": true
   },
   "outputs": [],
   "source": [
    "a1 = result.best_values['a1']\n",
    "a2 = result.best_values['a2']\n",
    "a3 = result.best_values['a3']\n",
    "a4 = result.best_values['a4']\n",
    "b1 = result.best_values['b1']"
   ]
  },
  {
   "cell_type": "code",
   "execution_count": 43,
   "metadata": {},
   "outputs": [],
   "source": [
    "preds = i_star_model(X_test['Size'], X_test['Volatility'], X_test['POV'], b1, a1, a2, a3, a4)"
   ]
  },
  {
   "cell_type": "code",
   "execution_count": 44,
   "metadata": {
    "collapsed": true
   },
   "outputs": [],
   "source": [
    "def istar_score(X_test, y_test):\n",
    "    preds = i_star_model(X_test['Size'], X_test['Volatility'], X_test['POV'], b1, a1, a2, a3, a4)\n",
    "    return mean_absolute_error(y_test, preds)\n",
    "    "
   ]
  },
  {
   "cell_type": "code",
   "execution_count": 45,
   "metadata": {},
   "outputs": [
    {
     "name": "stdout",
     "output_type": "stream",
     "text": [
      "I-star model MAE: 0.8238807503259593\n"
     ]
    }
   ],
   "source": [
    "print(\"I-star model MAE: {}\".format(istar_score(X_test, y_test)))"
   ]
  },
  {
   "cell_type": "code",
   "execution_count": 46,
   "metadata": {},
   "outputs": [
    {
     "name": "stdout",
     "output_type": "stream",
     "text": [
      "I-Star model MAE: 0.8238807503259593\n",
      "=====================================\n"
     ]
    },
    {
     "data": {
      "image/png": "[encoded data removed]",
      "text/plain": [
       "<matplotlib.figure.Figure at 0x11955a358>"
      ]
     },
     "metadata": {},
     "output_type": "display_data"
    }
   ],
   "source": [
    "# SEHK Top 26 predict result\n",
    "\n",
    "preds = i_star_model(X_test['Size'], X_test['Volatility'], X_test['POV'], b1, a1, a2, a3, a4)\n",
    "\n",
    "test_val = y_test\n",
    "preds_val = preds\n",
    "ar = np.arange(len(y_test))\n",
    "plt.plot(ar, np.zeros_like(ar) + test_val, c='g', label='Test data')\n",
    "plt.plot(ar, np.zeros_like(ar) + preds_val, c='b', label='Predict data (I-Star)')\n",
    "print(\"I-Star model MAE: {}\".format(istar_score(X_test, y_test)))\n",
    "print(\"=====================================\")\n",
    "plt.plot()\n",
    "plt.show()"
   ]
  },
  {
   "cell_type": "code",
   "execution_count": 47,
   "metadata": {},
   "outputs": [
    {
     "name": "stdout",
     "output_type": "stream",
     "text": [
      "I-star model MAE: 0.4878976292352367\n"
     ]
    }
   ],
   "source": [
    "print(\"I-star model MAE: {}\".format(istar_score(X1_test, y1_test)))"
   ]
  },
  {
   "cell_type": "code",
   "execution_count": 48,
   "metadata": {},
   "outputs": [
    {
     "name": "stdout",
     "output_type": "stream",
     "text": [
      "I-Star model MAE: 0.4878976292352367\n",
      "=====================================\n"
     ]
    },
    {
     "data": {
      "text/plain": [
       "[]"
      ]
     },
     "execution_count": 48,
     "metadata": {},
     "output_type": "execute_result"
    },
    {
     "data": {
      "image/png": "[encoded data removed]",
      "text/plain": [
       "<matplotlib.figure.Figure at 0x11d129cf8>"
      ]
     },
     "metadata": {},
     "output_type": "display_data"
    }
   ],
   "source": [
    "# SEHK:2 predict result\n",
    "\n",
    "preds = i_star_model(X1_test['Size'], X1_test['Volatility'], X1_test['POV'], b1, a1, a2, a3, a4)\n",
    "\n",
    "test_val = y1_test\n",
    "preds_val = preds\n",
    "ar = np.arange(len(y1_test))\n",
    "plt.plot(ar, np.zeros_like(ar) + test_val, c='g', label='Test data')\n",
    "plt.plot(ar, np.zeros_like(ar) + preds_val, c='b', label='Predict data (I-Star)')\n",
    "print(\"I-Star model MAE: {}\".format(istar_score(X1_test, y1_test)))\n",
    "print(\"=====================================\")\n",
    "plt.plot()"
   ]
  },
  {
   "cell_type": "code",
   "execution_count": 49,
   "metadata": {
    "collapsed": true
   },
   "outputs": [],
   "source": [
    "from sklearn.gaussian_process import GaussianProcessRegressor\n",
    "\n",
    "def GPR_score(X_train, X_test, y_train, y_test):\n",
    "    model = GaussianProcessRegressor(random_state=0)\n",
    "    model.fit(X_train, y_train)\n",
    "    preds = model.predict(X_test)\n",
    "    return mean_absolute_error(y_test, preds)\n",
    "    "
   ]
  },
  {
   "cell_type": "code",
   "execution_count": 50,
   "metadata": {},
   "outputs": [
    {
     "name": "stdout",
     "output_type": "stream",
     "text": [
      "GPR model MAE: 0.808325821351549\n",
      "==================================\n"
     ]
    },
    {
     "data": {
      "text/plain": [
       "[]"
      ]
     },
     "execution_count": 50,
     "metadata": {},
     "output_type": "execute_result"
    },
    {
     "data": {
      "image/png": "[encoded data removed]",
      "text/plain": [
       "<matplotlib.figure.Figure at 0x11d09df98>"
      ]
     },
     "metadata": {},
     "output_type": "display_data"
    }
   ],
   "source": [
    "# SEHK 26 stocks predict result\n",
    "\n",
    "model_GPR = GaussianProcessRegressor(random_state=0)\n",
    "model_GPR.fit(X_train, y_train)\n",
    "preds = model_GPR.predict(X_test)\n",
    "\n",
    "test_val = y_test\n",
    "preds_val = preds\n",
    "ar = np.arange(len(y_test))\n",
    "plt.plot(ar, np.zeros_like(ar) + test_val, c='g', label='Test data')\n",
    "plt.plot(ar, np.zeros_like(ar) + preds_val, c='b', label='Predict data (GPR)')\n",
    "print(\"GPR model MAE: {}\".format(GPR_score(X_train, X_test, y_train, y_test)))\n",
    "print(\"==================================\")\n",
    "plt.plot()"
   ]
  },
  {
   "cell_type": "code",
   "execution_count": 51,
   "metadata": {},
   "outputs": [
    {
     "name": "stdout",
     "output_type": "stream",
     "text": [
      "GPR model MAE: 0.43789055640072855\n",
      "==================================\n"
     ]
    },
    {
     "data": {
      "text/plain": [
       "[]"
      ]
     },
     "execution_count": 51,
     "metadata": {},
     "output_type": "execute_result"
    },
    {
     "data": {
      "image/png": "[encoded data removed]",
      "text/plain": [
       "<matplotlib.figure.Figure at 0x11d129630>"
      ]
     },
     "metadata": {},
     "output_type": "display_data"
    }
   ],
   "source": [
    "# SEHK:2 predict result\n",
    "\n",
    "model_GPR = GaussianProcessRegressor(random_state=0)\n",
    "model_GPR.fit(X_train, y_train)\n",
    "preds = model_GPR.predict(X1_test)\n",
    "\n",
    "test_val = y1_test\n",
    "preds_val = preds\n",
    "ar = np.arange(len(y1_test))\n",
    "plt.plot(ar, np.zeros_like(ar) + test_val, c='g', label='Test data')\n",
    "plt.plot(ar, np.zeros_like(ar) + preds_val, c='b', label='Predict data (GPR)')\n",
    "print(\"GPR model MAE: {}\".format(GPR_score(X_train, X1_test, y_train, y1_test)))\n",
    "print(\"==================================\")\n",
    "plt.plot()"
   ]
  },
  {
   "cell_type": "code",
   "execution_count": 52,
   "metadata": {},
   "outputs": [
    {
     "name": "stdout",
     "output_type": "stream",
     "text": [
      "SVR model MAE: 0.7166123162526611\n",
      "I-Star model MAE: 0.4878976292352367\n",
      "GPR model MAE: 0.43789055640072855\n"
     ]
    }
   ],
   "source": [
    "print(\"SVR model MAE: {}\".format(SVR_score(X_train, X1_test, y_train, y1_test)))\n",
    "print(\"I-Star model MAE: {}\".format(istar_score(X1_test, y1_test)))\n",
    "print(\"GPR model MAE: {}\".format(GPR_score(X_train, X1_test, y_train, y1_test)))"
   ]
  },
  {
   "cell_type": "code",
   "execution_count": 53,
   "metadata": {},
   "outputs": [
    {
     "data": {
      "text/plain": [
       "[]"
      ]
     },
     "execution_count": 53,
     "metadata": {},
     "output_type": "execute_result"
    },
    {
     "data": {
      "image/png": "[encoded data removed]",
      "text/plain": [
       "<matplotlib.figure.Figure at 0x11d126198>"
      ]
     },
     "metadata": {},
     "output_type": "display_data"
    }
   ],
   "source": [
    "x = np.arange(3)\n",
    "model_score = [SVR_score(X_train, X_test, y_train, y_test), istar_score(X_test, y_test), GPR_score(X_train, X_test, y_train, y_test)]\n",
    "\n",
    "plt.title('Prediction Model Mean Square Error of SEHK Top 26 stocks')\n",
    "plt.bar(x, model_score, color=['red', 'green', 'blue'])\n",
    "plt.xticks(x, ('SVR', 'I-Star', 'GPR'))\n",
    "plt.plot()\n"
   ]
  },
  {
   "cell_type": "code",
   "execution_count": 54,
   "metadata": {},
   "outputs": [
    {
     "data": {
      "text/plain": [
       "[]"
      ]
     },
     "execution_count": 54,
     "metadata": {},
     "output_type": "execute_result"
    },
    {
     "data": {
      "image/png": "[encoded data removed]",
      "text/plain": [
       "<matplotlib.figure.Figure at 0x11cd70550>"
      ]
     },
     "metadata": {},
     "output_type": "display_data"
    }
   ],
   "source": [
    "x = np.arange(3)\n",
    "model_score = [SVR_score(X_train, X1_test, y_train, y1_test), istar_score(X1_test, y1_test), GPR_score(X_train, X1_test, y_train, y1_test)]\n",
    "\n",
    "plt.title('Prediction Model Mean Square Error of SEHK:2')\n",
    "plt.bar(x, model_score, color=['red', 'green', 'blue'])\n",
    "plt.xticks(x, ('SVR', 'I-Star', 'GPR'))\n",
    "plt.plot()"
   ]
  },
  {
   "cell_type": "code",
   "execution_count": 55,
   "metadata": {},
   "outputs": [
    {
     "data": {
      "text/plain": [
       "[]"
      ]
     },
     "execution_count": 55,
     "metadata": {},
     "output_type": "execute_result"
    },
    {
     "data": {
      "image/png": "[encoded data removed]",
      "text/plain": [
       "<matplotlib.figure.Figure at 0x1208ea6d8>"
      ]
     },
     "metadata": {},
     "output_type": "display_data"
    }
   ],
   "source": [
    "x = np.arange(3)\n",
    "model_score = [SVR_score(X_train, X2_test, y_train, y2_test), istar_score(X2_test, y2_test), GPR_score(X_train, X2_test, y_train, y2_test)]\n",
    "\n",
    "plt.title('Prediction Model Mean Square Error of SEHK:3')\n",
    "plt.bar(x, model_score, color=['red', 'green', 'blue'])\n",
    "plt.xticks(x, ('SVR', 'I-Star', 'GPR'))\n",
    "plt.plot()"
   ]
  },
  {
   "cell_type": "code",
   "execution_count": 56,
   "metadata": {},
   "outputs": [
    {
     "data": {
      "text/plain": [
       "[]"
      ]
     },
     "execution_count": 56,
     "metadata": {},
     "output_type": "execute_result"
    },
    {
     "data": {
      "image/png": "[encoded data removed]",
      "text/plain": [
       "<matplotlib.figure.Figure at 0x1213067b8>"
      ]
     },
     "metadata": {},
     "output_type": "display_data"
    }
   ],
   "source": [
    "x = np.arange(3)\n",
    "model_score = [SVR_score(X_train, X3_test, y_train, y3_test), istar_score(X3_test, y3_test), GPR_score(X_train, X3_test, y_train, y3_test)]\n",
    "\n",
    "plt.title('Prediction Model Mean Square Error of SEHK:6')\n",
    "plt.bar(x, model_score, color=['red', 'green', 'blue'])\n",
    "plt.xticks(x, ('SVR', 'I-Star', 'GPR'))\n",
    "plt.plot()"
   ]
  },
  {
   "cell_type": "code",
   "execution_count": 135,
   "metadata": {},
   "outputs": [],
   "source": [
    "def estimate_market_impact_cost(params, cost):\n",
    "    preds = model_GPR.predict(params)\n",
    "    mki_cost = cost*preds/10000\n",
    "    estimated_price = cost - mki_cost\n",
    "    percent_loss = (estimated_price - cost)/cost*100\n",
    "    print(\"Estimated actual price from total amount money: {} is {}, Loss: {}% From total money\".format(cost, estimated_price[0], percent_loss[0]))\n",
    "#     return estimated_price, percent_loss"
   ]
  },
  {
   "cell_type": "code",
   "execution_count": 90,
   "metadata": {},
   "outputs": [
    {
     "data": {
      "text/plain": [
       "array([ 2.21661377,  2.44366455,  1.84533691, ...,  4.17877197,\n",
       "        1.51818848,  3.44561768])"
      ]
     },
     "execution_count": 90,
     "metadata": {},
     "output_type": "execute_result"
    }
   ],
   "source": [
    "preds = model_GPR.predict(X_test)\n",
    "preds"
   ]
  },
  {
   "cell_type": "code",
   "execution_count": 123,
   "metadata": {},
   "outputs": [
    {
     "data": {
      "text/html": [
       "<div>\n",
       "<style>\n",
       "    .dataframe thead tr:only-child th {\n",
       "        text-align: right;\n",
       "    }\n",
       "\n",
       "    .dataframe thead th {\n",
       "        text-align: left;\n",
       "    }\n",
       "\n",
       "    .dataframe tbody tr th {\n",
       "        vertical-align: top;\n",
       "    }\n",
       "</style>\n",
       "<table border=\"1\" class=\"dataframe\">\n",
       "  <thead>\n",
       "    <tr style=\"text-align: right;\">\n",
       "      <th></th>\n",
       "      <th>Size</th>\n",
       "      <th>Volatility</th>\n",
       "      <th>POV</th>\n",
       "    </tr>\n",
       "  </thead>\n",
       "  <tbody>\n",
       "    <tr>\n",
       "      <th>0</th>\n",
       "      <td>0.28953</td>\n",
       "      <td>0.023</td>\n",
       "      <td>0.0382</td>\n",
       "    </tr>\n",
       "  </tbody>\n",
       "</table>\n",
       "</div>"
      ],
      "text/plain": [
       "      Size  Volatility     POV\n",
       "0  0.28953       0.023  0.0382"
      ]
     },
     "execution_count": 123,
     "metadata": {},
     "output_type": "execute_result"
    }
   ],
   "source": [
    "params = pd.DataFrame([[0.28953, 0.02300, 0.0382]], columns = ['Size','Volatility','POV'])\n",
    "params"
   ]
  },
  {
   "cell_type": "code",
   "execution_count": 136,
   "metadata": {},
   "outputs": [
    {
     "name": "stdout",
     "output_type": "stream",
     "text": [
      "Estimated actual price from total amount money: 100000000 is 99973496.09375, Loss: -0.026503906249999997% From total money\n"
     ]
    }
   ],
   "source": [
    "estimate_market_impact_cost(params, 100000000)"
   ]
  },
  {
   "cell_type": "code",
   "execution_count": 120,
   "metadata": {},
   "outputs": [
    {
     "data": {
      "text/plain": [
       "array([ 2.65039062])"
      ]
     },
     "execution_count": 120,
     "metadata": {},
     "output_type": "execute_result"
    }
   ],
   "source": [
    "# **************\n",
    "\n",
    "preds = model_GPR.predict(pd.DataFrame([[0.28953, 0.02300, 0.0382]], columns = ['Size','Volatility','POV']))\n",
    "preds"
   ]
  },
  {
   "cell_type": "code",
   "execution_count": 113,
   "metadata": {},
   "outputs": [
    {
     "data": {
      "text/html": [
       "<div>\n",
       "<style>\n",
       "    .dataframe thead tr:only-child th {\n",
       "        text-align: right;\n",
       "    }\n",
       "\n",
       "    .dataframe thead th {\n",
       "        text-align: left;\n",
       "    }\n",
       "\n",
       "    .dataframe tbody tr th {\n",
       "        vertical-align: top;\n",
       "    }\n",
       "</style>\n",
       "<table border=\"1\" class=\"dataframe\">\n",
       "  <thead>\n",
       "    <tr style=\"text-align: right;\">\n",
       "      <th></th>\n",
       "      <th>Size</th>\n",
       "      <th>Volatility</th>\n",
       "      <th>POV</th>\n",
       "    </tr>\n",
       "  </thead>\n",
       "  <tbody>\n",
       "    <tr>\n",
       "      <th>173</th>\n",
       "      <td>0.281953</td>\n",
       "      <td>0.0233</td>\n",
       "      <td>0.034382</td>\n",
       "    </tr>\n",
       "    <tr>\n",
       "      <th>152</th>\n",
       "      <td>0.122479</td>\n",
       "      <td>0.0200</td>\n",
       "      <td>0.033461</td>\n",
       "    </tr>\n",
       "    <tr>\n",
       "      <th>106</th>\n",
       "      <td>0.180441</td>\n",
       "      <td>0.0138</td>\n",
       "      <td>0.033641</td>\n",
       "    </tr>\n",
       "    <tr>\n",
       "      <th>111</th>\n",
       "      <td>0.284951</td>\n",
       "      <td>0.0143</td>\n",
       "      <td>0.034297</td>\n",
       "    </tr>\n",
       "    <tr>\n",
       "      <th>125</th>\n",
       "      <td>0.155091</td>\n",
       "      <td>0.0157</td>\n",
       "      <td>0.033821</td>\n",
       "    </tr>\n",
       "    <tr>\n",
       "      <th>223</th>\n",
       "      <td>0.214018</td>\n",
       "      <td>0.0485</td>\n",
       "      <td>0.034741</td>\n",
       "    </tr>\n",
       "    <tr>\n",
       "      <th>122</th>\n",
       "      <td>0.241168</td>\n",
       "      <td>0.0154</td>\n",
       "      <td>0.034444</td>\n",
       "    </tr>\n",
       "    <tr>\n",
       "      <th>179</th>\n",
       "      <td>0.160016</td>\n",
       "      <td>0.0241</td>\n",
       "      <td>0.035371</td>\n",
       "    </tr>\n",
       "    <tr>\n",
       "      <th>45</th>\n",
       "      <td>0.215286</td>\n",
       "      <td>0.0077</td>\n",
       "      <td>0.033517</td>\n",
       "    </tr>\n",
       "    <tr>\n",
       "      <th>202</th>\n",
       "      <td>0.190441</td>\n",
       "      <td>0.0291</td>\n",
       "      <td>0.033018</td>\n",
       "    </tr>\n",
       "    <tr>\n",
       "      <th>118</th>\n",
       "      <td>0.141250</td>\n",
       "      <td>0.0150</td>\n",
       "      <td>0.033674</td>\n",
       "    </tr>\n",
       "    <tr>\n",
       "      <th>203</th>\n",
       "      <td>0.286398</td>\n",
       "      <td>0.0292</td>\n",
       "      <td>0.034481</td>\n",
       "    </tr>\n",
       "    <tr>\n",
       "      <th>207</th>\n",
       "      <td>0.140320</td>\n",
       "      <td>0.0311</td>\n",
       "      <td>0.036709</td>\n",
       "    </tr>\n",
       "    <tr>\n",
       "      <th>101</th>\n",
       "      <td>0.123412</td>\n",
       "      <td>0.0133</td>\n",
       "      <td>0.034426</td>\n",
       "    </tr>\n",
       "    <tr>\n",
       "      <th>235</th>\n",
       "      <td>0.131746</td>\n",
       "      <td>0.0529</td>\n",
       "      <td>0.033921</td>\n",
       "    </tr>\n",
       "    <tr>\n",
       "      <th>153</th>\n",
       "      <td>0.174968</td>\n",
       "      <td>0.0203</td>\n",
       "      <td>0.034270</td>\n",
       "    </tr>\n",
       "    <tr>\n",
       "      <th>186</th>\n",
       "      <td>0.143841</td>\n",
       "      <td>0.0253</td>\n",
       "      <td>0.033160</td>\n",
       "    </tr>\n",
       "    <tr>\n",
       "      <th>108</th>\n",
       "      <td>0.176697</td>\n",
       "      <td>0.0140</td>\n",
       "      <td>0.033720</td>\n",
       "    </tr>\n",
       "    <tr>\n",
       "      <th>184</th>\n",
       "      <td>0.129605</td>\n",
       "      <td>0.0247</td>\n",
       "      <td>0.033184</td>\n",
       "    </tr>\n",
       "    <tr>\n",
       "      <th>8</th>\n",
       "      <td>0.196655</td>\n",
       "      <td>0.0040</td>\n",
       "      <td>0.033735</td>\n",
       "    </tr>\n",
       "    <tr>\n",
       "      <th>55</th>\n",
       "      <td>0.206614</td>\n",
       "      <td>0.0087</td>\n",
       "      <td>0.033748</td>\n",
       "    </tr>\n",
       "    <tr>\n",
       "      <th>90</th>\n",
       "      <td>0.164994</td>\n",
       "      <td>0.0122</td>\n",
       "      <td>0.033891</td>\n",
       "    </tr>\n",
       "    <tr>\n",
       "      <th>89</th>\n",
       "      <td>0.204011</td>\n",
       "      <td>0.0121</td>\n",
       "      <td>0.033855</td>\n",
       "    </tr>\n",
       "    <tr>\n",
       "      <th>5</th>\n",
       "      <td>0.184017</td>\n",
       "      <td>0.0037</td>\n",
       "      <td>0.033088</td>\n",
       "    </tr>\n",
       "    <tr>\n",
       "      <th>22</th>\n",
       "      <td>0.199393</td>\n",
       "      <td>0.0054</td>\n",
       "      <td>0.033665</td>\n",
       "    </tr>\n",
       "    <tr>\n",
       "      <th>37</th>\n",
       "      <td>0.213420</td>\n",
       "      <td>0.0069</td>\n",
       "      <td>0.033652</td>\n",
       "    </tr>\n",
       "    <tr>\n",
       "      <th>139</th>\n",
       "      <td>0.132617</td>\n",
       "      <td>0.0178</td>\n",
       "      <td>0.034488</td>\n",
       "    </tr>\n",
       "    <tr>\n",
       "      <th>12</th>\n",
       "      <td>0.176482</td>\n",
       "      <td>0.0044</td>\n",
       "      <td>0.033521</td>\n",
       "    </tr>\n",
       "    <tr>\n",
       "      <th>109</th>\n",
       "      <td>0.262530</td>\n",
       "      <td>0.0141</td>\n",
       "      <td>0.033421</td>\n",
       "    </tr>\n",
       "    <tr>\n",
       "      <th>134</th>\n",
       "      <td>0.209658</td>\n",
       "      <td>0.0172</td>\n",
       "      <td>0.032317</td>\n",
       "    </tr>\n",
       "    <tr>\n",
       "      <th>...</th>\n",
       "      <td>...</td>\n",
       "      <td>...</td>\n",
       "      <td>...</td>\n",
       "    </tr>\n",
       "    <tr>\n",
       "      <th>324</th>\n",
       "      <td>0.077131</td>\n",
       "      <td>0.0454</td>\n",
       "      <td>0.033873</td>\n",
       "    </tr>\n",
       "    <tr>\n",
       "      <th>106</th>\n",
       "      <td>0.098758</td>\n",
       "      <td>0.0165</td>\n",
       "      <td>0.033591</td>\n",
       "    </tr>\n",
       "    <tr>\n",
       "      <th>229</th>\n",
       "      <td>0.123218</td>\n",
       "      <td>0.0294</td>\n",
       "      <td>0.034325</td>\n",
       "    </tr>\n",
       "    <tr>\n",
       "      <th>21</th>\n",
       "      <td>0.120867</td>\n",
       "      <td>0.0080</td>\n",
       "      <td>0.033625</td>\n",
       "    </tr>\n",
       "    <tr>\n",
       "      <th>150</th>\n",
       "      <td>0.077341</td>\n",
       "      <td>0.0210</td>\n",
       "      <td>0.033668</td>\n",
       "    </tr>\n",
       "    <tr>\n",
       "      <th>153</th>\n",
       "      <td>0.220179</td>\n",
       "      <td>0.0213</td>\n",
       "      <td>0.033764</td>\n",
       "    </tr>\n",
       "    <tr>\n",
       "      <th>49</th>\n",
       "      <td>0.145554</td>\n",
       "      <td>0.0108</td>\n",
       "      <td>0.033789</td>\n",
       "    </tr>\n",
       "    <tr>\n",
       "      <th>329</th>\n",
       "      <td>0.077304</td>\n",
       "      <td>0.0475</td>\n",
       "      <td>0.030727</td>\n",
       "    </tr>\n",
       "    <tr>\n",
       "      <th>369</th>\n",
       "      <td>0.074215</td>\n",
       "      <td>0.0731</td>\n",
       "      <td>0.033688</td>\n",
       "    </tr>\n",
       "    <tr>\n",
       "      <th>275</th>\n",
       "      <td>0.111848</td>\n",
       "      <td>0.0356</td>\n",
       "      <td>0.033949</td>\n",
       "    </tr>\n",
       "    <tr>\n",
       "      <th>228</th>\n",
       "      <td>0.117790</td>\n",
       "      <td>0.0293</td>\n",
       "      <td>0.034043</td>\n",
       "    </tr>\n",
       "    <tr>\n",
       "      <th>286</th>\n",
       "      <td>0.103913</td>\n",
       "      <td>0.0369</td>\n",
       "      <td>0.033979</td>\n",
       "    </tr>\n",
       "    <tr>\n",
       "      <th>349</th>\n",
       "      <td>0.044479</td>\n",
       "      <td>0.0583</td>\n",
       "      <td>0.032628</td>\n",
       "    </tr>\n",
       "    <tr>\n",
       "      <th>124</th>\n",
       "      <td>0.146214</td>\n",
       "      <td>0.0183</td>\n",
       "      <td>0.033915</td>\n",
       "    </tr>\n",
       "    <tr>\n",
       "      <th>22</th>\n",
       "      <td>0.134307</td>\n",
       "      <td>0.0081</td>\n",
       "      <td>0.033856</td>\n",
       "    </tr>\n",
       "    <tr>\n",
       "      <th>215</th>\n",
       "      <td>0.148045</td>\n",
       "      <td>0.0278</td>\n",
       "      <td>0.033800</td>\n",
       "    </tr>\n",
       "    <tr>\n",
       "      <th>100</th>\n",
       "      <td>0.131506</td>\n",
       "      <td>0.0159</td>\n",
       "      <td>0.033493</td>\n",
       "    </tr>\n",
       "    <tr>\n",
       "      <th>167</th>\n",
       "      <td>0.078788</td>\n",
       "      <td>0.0229</td>\n",
       "      <td>0.033409</td>\n",
       "    </tr>\n",
       "    <tr>\n",
       "      <th>142</th>\n",
       "      <td>0.102519</td>\n",
       "      <td>0.0201</td>\n",
       "      <td>0.033386</td>\n",
       "    </tr>\n",
       "    <tr>\n",
       "      <th>132</th>\n",
       "      <td>0.133512</td>\n",
       "      <td>0.0191</td>\n",
       "      <td>0.033753</td>\n",
       "    </tr>\n",
       "    <tr>\n",
       "      <th>66</th>\n",
       "      <td>0.145084</td>\n",
       "      <td>0.0125</td>\n",
       "      <td>0.033731</td>\n",
       "    </tr>\n",
       "    <tr>\n",
       "      <th>140</th>\n",
       "      <td>0.128772</td>\n",
       "      <td>0.0199</td>\n",
       "      <td>0.033805</td>\n",
       "    </tr>\n",
       "    <tr>\n",
       "      <th>12</th>\n",
       "      <td>0.182877</td>\n",
       "      <td>0.0071</td>\n",
       "      <td>0.033834</td>\n",
       "    </tr>\n",
       "    <tr>\n",
       "      <th>101</th>\n",
       "      <td>0.105718</td>\n",
       "      <td>0.0160</td>\n",
       "      <td>0.033877</td>\n",
       "    </tr>\n",
       "    <tr>\n",
       "      <th>370</th>\n",
       "      <td>0.067620</td>\n",
       "      <td>0.0734</td>\n",
       "      <td>0.031963</td>\n",
       "    </tr>\n",
       "    <tr>\n",
       "      <th>289</th>\n",
       "      <td>0.093361</td>\n",
       "      <td>0.0375</td>\n",
       "      <td>0.034326</td>\n",
       "    </tr>\n",
       "    <tr>\n",
       "      <th>303</th>\n",
       "      <td>0.113794</td>\n",
       "      <td>0.0402</td>\n",
       "      <td>0.032981</td>\n",
       "    </tr>\n",
       "    <tr>\n",
       "      <th>325</th>\n",
       "      <td>0.051579</td>\n",
       "      <td>0.0466</td>\n",
       "      <td>0.032395</td>\n",
       "    </tr>\n",
       "    <tr>\n",
       "      <th>17</th>\n",
       "      <td>0.169210</td>\n",
       "      <td>0.0076</td>\n",
       "      <td>0.033642</td>\n",
       "    </tr>\n",
       "    <tr>\n",
       "      <th>302</th>\n",
       "      <td>0.129870</td>\n",
       "      <td>0.0399</td>\n",
       "      <td>0.034026</td>\n",
       "    </tr>\n",
       "  </tbody>\n",
       "</table>\n",
       "<p>2931 rows × 3 columns</p>\n",
       "</div>"
      ],
      "text/plain": [
       "         Size  Volatility       POV\n",
       "173  0.281953      0.0233  0.034382\n",
       "152  0.122479      0.0200  0.033461\n",
       "106  0.180441      0.0138  0.033641\n",
       "111  0.284951      0.0143  0.034297\n",
       "125  0.155091      0.0157  0.033821\n",
       "223  0.214018      0.0485  0.034741\n",
       "122  0.241168      0.0154  0.034444\n",
       "179  0.160016      0.0241  0.035371\n",
       "45   0.215286      0.0077  0.033517\n",
       "202  0.190441      0.0291  0.033018\n",
       "118  0.141250      0.0150  0.033674\n",
       "203  0.286398      0.0292  0.034481\n",
       "207  0.140320      0.0311  0.036709\n",
       "101  0.123412      0.0133  0.034426\n",
       "235  0.131746      0.0529  0.033921\n",
       "153  0.174968      0.0203  0.034270\n",
       "186  0.143841      0.0253  0.033160\n",
       "108  0.176697      0.0140  0.033720\n",
       "184  0.129605      0.0247  0.033184\n",
       "8    0.196655      0.0040  0.033735\n",
       "55   0.206614      0.0087  0.033748\n",
       "90   0.164994      0.0122  0.033891\n",
       "89   0.204011      0.0121  0.033855\n",
       "5    0.184017      0.0037  0.033088\n",
       "22   0.199393      0.0054  0.033665\n",
       "37   0.213420      0.0069  0.033652\n",
       "139  0.132617      0.0178  0.034488\n",
       "12   0.176482      0.0044  0.033521\n",
       "109  0.262530      0.0141  0.033421\n",
       "134  0.209658      0.0172  0.032317\n",
       "..        ...         ...       ...\n",
       "324  0.077131      0.0454  0.033873\n",
       "106  0.098758      0.0165  0.033591\n",
       "229  0.123218      0.0294  0.034325\n",
       "21   0.120867      0.0080  0.033625\n",
       "150  0.077341      0.0210  0.033668\n",
       "153  0.220179      0.0213  0.033764\n",
       "49   0.145554      0.0108  0.033789\n",
       "329  0.077304      0.0475  0.030727\n",
       "369  0.074215      0.0731  0.033688\n",
       "275  0.111848      0.0356  0.033949\n",
       "228  0.117790      0.0293  0.034043\n",
       "286  0.103913      0.0369  0.033979\n",
       "349  0.044479      0.0583  0.032628\n",
       "124  0.146214      0.0183  0.033915\n",
       "22   0.134307      0.0081  0.033856\n",
       "215  0.148045      0.0278  0.033800\n",
       "100  0.131506      0.0159  0.033493\n",
       "167  0.078788      0.0229  0.033409\n",
       "142  0.102519      0.0201  0.033386\n",
       "132  0.133512      0.0191  0.033753\n",
       "66   0.145084      0.0125  0.033731\n",
       "140  0.128772      0.0199  0.033805\n",
       "12   0.182877      0.0071  0.033834\n",
       "101  0.105718      0.0160  0.033877\n",
       "370  0.067620      0.0734  0.031963\n",
       "289  0.093361      0.0375  0.034326\n",
       "303  0.113794      0.0402  0.032981\n",
       "325  0.051579      0.0466  0.032395\n",
       "17   0.169210      0.0076  0.033642\n",
       "302  0.129870      0.0399  0.034026\n",
       "\n",
       "[2931 rows x 3 columns]"
      ]
     },
     "execution_count": 113,
     "metadata": {},
     "output_type": "execute_result"
    }
   ],
   "source": [
    "X_test"
   ]
  },
  {
   "cell_type": "code",
   "execution_count": 119,
   "metadata": {},
   "outputs": [
    {
     "data": {
      "text/html": [
       "<div>\n",
       "<style>\n",
       "    .dataframe thead tr:only-child th {\n",
       "        text-align: right;\n",
       "    }\n",
       "\n",
       "    .dataframe thead th {\n",
       "        text-align: left;\n",
       "    }\n",
       "\n",
       "    .dataframe tbody tr th {\n",
       "        vertical-align: top;\n",
       "    }\n",
       "</style>\n",
       "<table border=\"1\" class=\"dataframe\">\n",
       "  <thead>\n",
       "    <tr style=\"text-align: right;\">\n",
       "      <th></th>\n",
       "      <th>Size</th>\n",
       "      <th>Volatility</th>\n",
       "      <th>POV</th>\n",
       "    </tr>\n",
       "  </thead>\n",
       "  <tbody>\n",
       "    <tr>\n",
       "      <th>0</th>\n",
       "      <td>0.28953</td>\n",
       "      <td>0.023</td>\n",
       "      <td>0.0382</td>\n",
       "    </tr>\n",
       "  </tbody>\n",
       "</table>\n",
       "</div>"
      ],
      "text/plain": [
       "      Size  Volatility     POV\n",
       "0  0.28953       0.023  0.0382"
      ]
     },
     "execution_count": 119,
     "metadata": {},
     "output_type": "execute_result"
    }
   ],
   "source": [
    "pd.DataFrame([[0.28953, 0.02300, 0.0382]], columns = ['Size','Volatility','POV'])"
   ]
  },
  {
   "cell_type": "code",
   "execution_count": null,
   "metadata": {
    "collapsed": true
   },
   "outputs": [],
   "source": []
  }
 ],
 "metadata": {
  "kernelspec": {
   "display_name": "Python 3",
   "language": "python",
   "name": "python3"
  },
  "language_info": {
   "codemirror_mode": {
    "name": "ipython",
    "version": 3
   },
   "file_extension": ".py",
   "mimetype": "text/x-python",
   "name": "python",
   "nbconvert_exporter": "python",
   "pygments_lexer": "ipython3",
   "version": "3.6.1"
  }
 },
 "nbformat": 4,
 "nbformat_minor": 2
}
